{
 "cells": [
  {
   "cell_type": "code",
   "execution_count": 2,
   "metadata": {},
   "outputs": [],
   "source": [
    "from astropy.io import fits "
   ]
  },
  {
   "cell_type": "code",
   "execution_count": 3,
   "metadata": {},
   "outputs": [],
   "source": [
    "freq_strngs = [\n",
    "    \"072-080\",\n",
    "    \"072-103\",\n",
    "    \"080-088\",\n",
    "    \"088-095\",\n",
    "    \"095-103\",\n",
    "    \"103-111\",\n",
    "    \"103-134\",\n",
    "    \"111-118\",\n",
    "    \"118-126\",\n",
    "    \"126-134\",\n",
    "    \"139-147\",\n",
    "    \"139-170\",\n",
    "    \"147-154\",\n",
    "    \"154-162\",\n",
    "    \"162-170\",\n",
    "    \"170-177\",\n",
    "    \"170-200\",\n",
    "    \"177-185\",\n",
    "    \"185-193\",\n",
    "    \"193-200\",\n",
    "    \"200-208\",\n",
    "    \"200-231\",\n",
    "    \"208-216\",\n",
    "    \"216-223\",\n",
    "    \"223-231\"\n",
    "]\n",
    "\n",
    "reference_mosaic_dir = \"/data/gleam_x/processing/GLEAMX-DRII/XG_D-40_4Night/XG_D-40_20201007/\"\n",
    "\n",
    "update_mosaic_dir = \"/data/gleam_x/processing/GLEAMX-DRII/\""
   ]
  },
  {
   "cell_type": "code",
   "execution_count": 4,
   "metadata": {},
   "outputs": [
    {
     "name": "stdout",
     "output_type": "stream",
     "text": [
      "[76155000, 87675000, 83835000, 91515000, 99195000, 106875000, 118395000, 114555000, 122235000, 129915000, 142715000, 154235000, 150395000, 158075000, 165755000, 173435000, 184955000, 181115000, 188795000, 196475000, 204155000, 215675000, 211835000, 219515000, 227195000]\n"
     ]
    }
   ],
   "source": [
    "freq = []\n",
    "\n",
    "for f_string in freq_strngs:\n",
    "    with fits.open(f\"{reference_mosaic_dir}/GX_D-40_20201007_{f_string}MHz_ddmod.fits\",mode=\"readonly\") as hdul:\n",
    "        hdr=hdul[0].header\n",
    "        freq.append(hdr[\"FREQ\"])\n",
    "\n",
    "print(freq)"
   ]
  },
  {
   "cell_type": "code",
   "execution_count": 10,
   "metadata": {},
   "outputs": [],
   "source": [
    "for i in range(len(freq_strngs)):\n",
    "    with fits.open(f\"{update_mosaic_dir}GLEAMX_DRII_{freq_strngs[i]}MHz.fits\",mode=\"update\") as hdul:\n",
    "        hdr=hdul[0].header\n",
    "        hdr[\"FREQ\"] = freq[i]\n"
   ]
  }
 ],
 "metadata": {
  "kernelspec": {
   "display_name": "general",
   "language": "python",
   "name": "python3"
  },
  "language_info": {
   "codemirror_mode": {
    "name": "ipython",
    "version": 3
   },
   "file_extension": ".py",
   "mimetype": "text/x-python",
   "name": "python",
   "nbconvert_exporter": "python",
   "pygments_lexer": "ipython3",
   "version": "3.10.4"
  },
  "orig_nbformat": 4
 },
 "nbformat": 4,
 "nbformat_minor": 2
}
