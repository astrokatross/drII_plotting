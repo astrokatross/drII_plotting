{
 "cells": [
  {
   "cell_type": "code",
   "execution_count": 2,
   "metadata": {},
   "outputs": [],
   "source": [
    "import numpy as np\n",
    "from astropy.io import fits \n",
    "from astropy.nddata import Cutout2D\n",
    "from astropy import wcs\n",
    "from astropy.coordinates import SkyCoord\n",
    "from astropy import units as u\n",
    "from astropy.modeling import models, fitting\n",
    "import matplotlib.pyplot as plt\n",
    "import copy\n",
    "from matplotlib import rc\n",
    "plt.rcParams.update({\n",
    "    \"text.usetex\": True,\n",
    "    \"font.family\": \"serif\",\n",
    "    \"font.size\": 8,\n",
    "    \"axes.titlesize\": 8\n",
    "})\n",
    "cm = 1/2.54"
   ]
  },
  {
   "cell_type": "code",
   "execution_count": 1,
   "metadata": {},
   "outputs": [],
   "source": [
    "savedir = \"/data/gleam_x/drII_plotting/noise_analysis/\"\n",
    "datadir = \"/data/gleam_x/Super_Description_Paper_GLEAM-X/noise_analysis/drii_069_prior\"\n",
    "# freq=\"170-231\"\n",
    "# freq=\"072-080\"\n",
    "freq=\"72-103\"\n",
    "savenm=\"069\"\n",
    "title=\"72-103\""
   ]
  },
  {
   "cell_type": "code",
   "execution_count": 3,
   "metadata": {},
   "outputs": [],
   "source": [
    "# hdu = fits.open(f\"{datadir}/GLEAMX_DRII-{freq}MHz.fits\")\n",
    "# im_wcs = wcs.WCS(hdu[0].header, naxis=2)\\\n",
    "# hdu_rms = fits.open(f\"{datadir}/GLEAMX_DRII-{freq}MHz_rms.fits\")\n",
    "# rms_wcs = wcs.WCS(hdu_rms[0].header, naxis=2)\n",
    "# hdu_bkg = fits.open(f\"{datadir}/GLEAMX_DRII-{freq}MHz_bkg.fits\")\n",
    "# bkg_wcs = wcs.WCS(hdu_bkg[0].header, naxis=2)\n",
    "\n",
    "hdu = fits.open(f\"{datadir}/XG.fits\")\n",
    "im_wcs = wcs.WCS(hdu[0].header, naxis=2)\n",
    "hdu_rms = fits.open(f\"{datadir}/XG_rms.fits\")\n",
    "rms_wcs = wcs.WCS(hdu_rms[0].header, naxis=2)\n",
    "hdu_bkg = fits.open(f\"{datadir}/XG_bkg.fits\")\n",
    "bkg_wcs = wcs.WCS(hdu_bkg[0].header, naxis=2)\n",
    "\n",
    "\n"
   ]
  },
  {
   "cell_type": "code",
   "execution_count": 1199,
   "metadata": {},
   "outputs": [],
   "source": [
    "# hdu[0].data = hdu[0].data - hdu_bkg[0].data"
   ]
  },
  {
   "cell_type": "code",
   "execution_count": 4,
   "metadata": {},
   "outputs": [
    {
     "name": "stderr",
     "output_type": "stream",
     "text": [
      "WARNING: FITSFixedWarning: 'datfix' made the change 'Set DATE-OBS to '2020-09-29T11:38:00' from MJD-OBS'. [astropy.wcs.wcs]\n"
     ]
    }
   ],
   "source": [
    "# pos = SkyCoord(\"04h37m13s -21d21m30s\",frame =\"icrs\")\n",
    "pos = SkyCoord(\"02h47m27s -38d48m40s\",frame =\"icrs\")\n",
    "im_cutout = Cutout2D(hdu[0].data, pos, (15*u.deg, 15*u.deg), wcs=wcs.WCS(hdu[0].header))\n",
    "\n",
    "\n",
    "im_data = im_cutout.data"
   ]
  },
  {
   "cell_type": "code",
   "execution_count": 5,
   "metadata": {},
   "outputs": [],
   "source": [
    "bins = 100\n",
    "nx = np.empty(bins)\n",
    "stdev = 0.025\n",
    "nsig = 1\n",
    "\n",
    "# stdev=1\n",
    "# nsig=5\n",
    "xmin = -nsig*stdev\n",
    "xmax = nsig*stdev"
   ]
  },
  {
   "cell_type": "code",
   "execution_count": 6,
   "metadata": {},
   "outputs": [
    {
     "name": "stdout",
     "output_type": "stream",
     "text": [
      "Stdev of original image is 0.004122080490284733Jy/beam (meaningless, here for completeness)\n",
      "Model: Gaussian1D\n",
      "Inputs: ('x',)\n",
      "Outputs: ('y',)\n",
      "Model set size: 1\n",
      "Parameters:\n",
      "        amplitude               mean                stddev       \n",
      "    ------------------ --------------------- --------------------\n",
      "    114.59884791067184 -0.002139676435974196 0.004122080490284733\n",
      "0.0\n"
     ]
    }
   ],
   "source": [
    "nu, binsu = np.histogram(im_data,bins = np.linspace(xmin,xmax,bins))\n",
    "# nu, binsu = np.histogram(im_data, bins=bins,density=False)\n",
    "nu = np.array(nu,dtype=\"float32\")/len(nu)\n",
    "binsu_centers = (binsu+((binsu[1]-binsu[0])/2))[:-1]\n",
    "g_init = models.Gaussian1D(amplitude=1., mean=0., stddev=stdev)\n",
    "fit_g = fitting.LevMarLSQFitter()\n",
    "gu = fit_g(g_init, binsu_centers, nu)\n",
    "print(\"Stdev of original image is {0}Jy/beam (meaningless, here for completeness)\".format(gu.stddev.value))\n",
    "print(gu)\n",
    "print(min(nu))\n",
    "\n",
    "# tgu = copy.deepcopy(gu)\n",
    "# tgu.mean.value = 0.0\n",
    "# tgu.stddev.value=1.0"
   ]
  },
  {
   "cell_type": "code",
   "execution_count": 7,
   "metadata": {},
   "outputs": [
    {
     "name": "stdout",
     "output_type": "stream",
     "text": [
      "BANE detects 0.004509655758738518 mJy/beam noise in this region.\n",
      "BANE detects -0.001549108070321381 mJy/beam bkg in this region.\n"
     ]
    },
    {
     "name": "stderr",
     "output_type": "stream",
     "text": [
      "WARNING: FITSFixedWarning: 'datfix' made the change 'Set DATE-OBS to '2020-09-29T11:38:00' from MJD-OBS'. [astropy.wcs.wcs]\n",
      "WARNING: FITSFixedWarning: 'datfix' made the change 'Set DATE-OBS to '2020-09-29T11:38:00' from MJD-OBS'. [astropy.wcs.wcs]\n"
     ]
    }
   ],
   "source": [
    "tempr = hdu_rms[0].data\n",
    "\n",
    "rms_cutout = Cutout2D(tempr, pos, (15*u.deg, 15*u.deg), wcs=wcs.WCS(hdu_rms[0].header))\n",
    "\n",
    "\n",
    "rms_cutout_data = rms_cutout.data\n",
    "mean_rms = np.nanmean(rms_cutout_data)\n",
    "\n",
    "print(f\"BANE detects {mean_rms} mJy/beam noise in this region.\")\n",
    "\n",
    "tempb = hdu_bkg[0].data\n",
    "bkg_cutout = Cutout2D(tempb, pos, (15*u.deg, 15*u.deg), wcs=wcs.WCS(hdu_bkg[0].header))\n",
    "\n",
    "\n",
    "bkg_cutout_data = bkg_cutout.data\n",
    "mean_bkg = np.nanmean(bkg_cutout_data)\n",
    "\n",
    "print(f\"BANE detects {mean_bkg} mJy/beam bkg in this region.\")\n",
    "\n",
    "tgu = copy.deepcopy(gu)\n",
    "tgu.mean.value = mean_bkg\n",
    "tgu.stddev.value = mean_rms\n",
    "# tgu.stddev.value=1.0\n",
    "# tgu.mean.value = 0.0"
   ]
  },
  {
   "cell_type": "code",
   "execution_count": 8,
   "metadata": {},
   "outputs": [
    {
     "data": {
      "image/png": "[encoded data removed]",
      "text/plain": [
       "<Figure size 393.701x393.701 with 1 Axes>"
      ]
     },
     "metadata": {},
     "output_type": "display_data"
    }
   ],
   "source": [
    "fig = plt.figure(figsize=(10*cm, 10*cm))\n",
    "ax = fig.add_subplot(111)\n",
    "ax.bar(binsu_centers, nu, color = 'C6', edgecolor = \"none\", width=(binsu[1]-binsu[0]),alpha=0.5) \n",
    "# ax.hist(im_data,density=False,bins=100)\n",
    "ax.set_yscale('log')\n",
    "ax.set_xlabel(\"Pixel distribution (Jy/beam)\")\n",
    "ax.set_xlim([xmin,xmax])\n",
    "ax.set_ylim([1.0,1.2*max(nu)])\n",
    "# ax.set_ylim([1.0,2.8e2])\n",
    "# ax.axvline(gu.mean.value, color='k')\n",
    "# ax.axvline(mean_bkg, color='k',linestyle=\"--\")\n",
    "# ax.axvline(mean_bkg-(2*mean_rms), color='k',linestyle=\":\")\n",
    "# ax.axvline(mean_bkg+(2*mean_rms), color='k',linestyle=\":\")\n",
    "ax.plot(np.linspace(xmin,xmax,1000),gu(np.linspace(xmin,xmax,1000)), color='k',lw=0.5, alpha=0.8, label='Fitted')\n",
    "\n",
    "ax.plot(np.linspace(xmin,xmax,1000),tgu(np.linspace(xmin,xmax,1000)), color='k',lw=1, linestyle=\"--\", label='BANE')\n",
    "ax.legend()\n",
    "ax.set_title(f\"Pixel distribution {title}\")\n",
    "plt.savefig(f\"{savedir}/noise_distribution_{savenm}.png\")"
   ]
  },
  {
   "cell_type": "code",
   "execution_count": 774,
   "metadata": {},
   "outputs": [
    {
     "name": "stdout",
     "output_type": "stream",
     "text": [
      "BANE detects 0.004526018630713224 Jy/beam noise in this region.\n",
      "BANE detects -0.0015627399552613497 Jy/beam bkg in this region.\n"
     ]
    },
    {
     "name": "stderr",
     "output_type": "stream",
     "text": [
      "WARNING: FITSFixedWarning: 'datfix' made the change 'Set DATE-OBS to '2020-09-29T11:38:00' from MJD-OBS'. [astropy.wcs.wcs]\n",
      "WARNING: FITSFixedWarning: 'datfix' made the change 'Set DATE-OBS to '2020-09-29T11:38:00' from MJD-OBS'. [astropy.wcs.wcs]\n"
     ]
    }
   ],
   "source": [
    "tempr = hdu_rms[0].data\n",
    "\n",
    "rms_cutout = Cutout2D(tempr, pos, (15*u.deg, 15*u.deg), wcs=wcs.WCS(hdu_rms[0].header))\n",
    "\n",
    "\n",
    "rms_cutout_data = rms_cutout.data\n",
    "mean_rms = np.nanmedian(rms_cutout_data)\n",
    "\n",
    "print(f\"BANE detects {mean_rms} Jy/beam noise in this region.\")\n",
    "\n",
    "tempb = hdu_bkg[0].data\n",
    "bkg_cutout = Cutout2D(tempb, pos, (18*u.deg, 18*u.deg), wcs=wcs.WCS(hdu_bkg[0].header))\n",
    "\n",
    "\n",
    "bkg_cutout_data = bkg_cutout.data\n",
    "mean_bkg = np.nanmedian(bkg_cutout_data)\n",
    "\n",
    "print(f\"BANE detects {mean_bkg} Jy/beam bkg in this region.\")\n"
   ]
  },
  {
   "cell_type": "code",
   "execution_count": 682,
   "metadata": {},
   "outputs": [],
   "source": [
    "freq=\"170-231\""
   ]
  },
  {
   "cell_type": "code",
   "execution_count": 683,
   "metadata": {},
   "outputs": [],
   "source": [
    "# hdu = fits.open(f\"{datadir}/GLEAMX_DRII-072-103MHz.fits\")\n",
    "hdu = fits.open(f\"{datadir}/GLEAMX_DRII-{freq}MHz.fits\")\n",
    "im_wcs = wcs.WCS(hdu[0].header, naxis=2)\n",
    "\n",
    "hdu_rms = fits.open(f\"{datadir}/GLEAMX_DRII-{freq}MHz_rms.fits\")\n",
    "rms_wcs = wcs.WCS(hdu_rms[0].header, naxis=2)\n",
    "\n",
    "hdu_bkg = fits.open(f\"{datadir}/GLEAMX_DRII-{freq}MHz_bkg.fits\")\n",
    "bkg_wcs = wcs.WCS(hdu_bkg[0].header, naxis=2)"
   ]
  },
  {
   "cell_type": "code",
   "execution_count": 684,
   "metadata": {},
   "outputs": [
    {
     "ename": "ValueError",
     "evalue": "operands could not be broadcast together with shapes (29414,48565) (1280,2113) ",
     "output_type": "error",
     "traceback": [
      "\u001b[0;31m---------------------------------------------------------------------------\u001b[0m",
      "\u001b[0;31mValueError\u001b[0m                                Traceback (most recent call last)",
      "Cell \u001b[0;32mIn[684], line 1\u001b[0m\n\u001b[0;32m----> 1\u001b[0m hdu[\u001b[39m0\u001b[39m]\u001b[39m.\u001b[39mdata \u001b[39m=\u001b[39m hdu[\u001b[39m0\u001b[39;49m]\u001b[39m.\u001b[39;49mdata \u001b[39m-\u001b[39;49m hdu_bkg[\u001b[39m0\u001b[39;49m]\u001b[39m.\u001b[39;49mdata\n",
      "\u001b[0;31mValueError\u001b[0m: operands could not be broadcast together with shapes (29414,48565) (1280,2113) "
     ]
    }
   ],
   "source": [
    "hdu[0].data = hdu[0].data - hdu_bkg[0].data"
   ]
  },
  {
   "cell_type": "code",
   "execution_count": 685,
   "metadata": {},
   "outputs": [
    {
     "name": "stderr",
     "output_type": "stream",
     "text": [
      "WARNING: FITSFixedWarning: 'datfix' made the change 'Set DATE-OBS to '2000-01-01T12:00:00' from MJD-OBS'. [astropy.wcs.wcs]\n"
     ]
    }
   ],
   "source": [
    "\n",
    "im_cutout = Cutout2D(hdu[0].data, pos, (15*u.deg, 15*u.deg), wcs=wcs.WCS(hdu[0].header))\n",
    "\n",
    "\n",
    "im_data = im_cutout.data"
   ]
  },
  {
   "cell_type": "code",
   "execution_count": 679,
   "metadata": {},
   "outputs": [],
   "source": [
    "bins = 75\n",
    "nx = np.empty(bins)\n",
    "stdev = 0.002\n",
    "nsig = 6\n",
    "xmin = -nsig*stdev\n",
    "xmax = nsig*stdev"
   ]
  },
  {
   "cell_type": "code",
   "execution_count": 680,
   "metadata": {},
   "outputs": [
    {
     "name": "stdout",
     "output_type": "stream",
     "text": [
      "Stdev of original image is 0.0008121786929041584Jy/beam (meaningless, here for completeness)\n",
      "Model: Gaussian1D\n",
      "Inputs: ('x',)\n",
      "Outputs: ('y',)\n",
      "Model set size: 1\n",
      "Parameters:\n",
      "        amplitude              mean                  stddev       \n",
      "    ----------------- ---------------------- ---------------------\n",
      "    31510.66278437633 -0.0001589440691959988 0.0008121786929041584\n",
      "2.162162\n"
     ]
    }
   ],
   "source": [
    "nu, binsu = np.histogram(im_data,bins = np.linspace(xmin,xmax,bins))\n",
    "# nu, binsu = np.histogram(im_data, bins=bins,density=False)\n",
    "nu = np.array(nu,dtype=\"float32\")/len(nu)\n",
    "binsu_centers = (binsu+((binsu[1]-binsu[0])/2))[:-1]\n",
    "g_init = models.Gaussian1D(amplitude=1., mean=0., stddev=stdev)\n",
    "fit_g = fitting.LevMarLSQFitter()\n",
    "gu = fit_g(g_init, binsu_centers, nu)\n",
    "print(\"Stdev of original image is {0}Jy/beam (meaningless, here for completeness)\".format(gu.stddev.value))\n",
    "print(gu)\n",
    "print(min(nu))"
   ]
  },
  {
   "cell_type": "code",
   "execution_count": 681,
   "metadata": {},
   "outputs": [
    {
     "data": {
      "image/png": "[encoded data removed]",
      "text/plain": [
       "<Figure size 640x480 with 1 Axes>"
      ]
     },
     "metadata": {},
     "output_type": "display_data"
    }
   ],
   "source": [
    "fig = plt.figure()\n",
    "ax = fig.add_subplot(111)\n",
    "ax.bar(binsu_centers, nu, color = 'C6', edgecolor = \"none\", width=(binsu[1]-binsu[0]),alpha=0.5) \n",
    "# ax.hist(im_data,density=False,bins=100)\n",
    "ax.set_yscale('log')\n",
    "ax.set_xlabel(\"Pixel distribution (Jy/beam)\")\n",
    "ax.set_xlim([xmin,xmax])\n",
    "ax.set_ylim([1.0,1.2*max(nu)])\n",
    "\n",
    "ax.plot(np.linspace(-0.1,0.1,1000),gu(np.linspace(-0.1,0.1,1000)), color='k',lw=2, label='BANE')\n",
    "ax.set_title(f\"Pixel distribution for {freq}MHz\")\n",
    "plt.savefig(f\"{datadir}/noise_distribution_srcfdr.png\")"
   ]
  },
  {
   "cell_type": "code",
   "execution_count": 601,
   "metadata": {},
   "outputs": [
    {
     "name": "stdout",
     "output_type": "stream",
     "text": [
      "BANE detects 0.0007888845284469426 Jy/beam noise in this region.\n",
      "BANE detects -9.957029396900907e-05 Jy/beam bkg in this region.\n"
     ]
    },
    {
     "name": "stderr",
     "output_type": "stream",
     "text": [
      "WARNING: FITSFixedWarning: 'datfix' made the change 'Set DATE-OBS to '2000-01-01T12:00:00' from MJD-OBS'. [astropy.wcs.wcs]\n",
      "WARNING: FITSFixedWarning: 'datfix' made the change 'Set DATE-OBS to '2000-01-01T12:00:00' from MJD-OBS'. [astropy.wcs.wcs]\n"
     ]
    }
   ],
   "source": [
    "tempr = hdu_rms[0].data\n",
    "\n",
    "rms_cutout = Cutout2D(tempr, pos, (5*u.deg, 5*u.deg), wcs=wcs.WCS(hdu_rms[0].header))\n",
    "\n",
    "\n",
    "rms_cutout_data = rms_cutout.data\n",
    "mean_rms = np.nanmedian(rms_cutout_data)\n",
    "\n",
    "print(f\"BANE detects {mean_rms} Jy/beam noise in this region.\")\n",
    "\n",
    "tempb = hdu_bkg[0].data\n",
    "bkg_cutout = Cutout2D(tempb, pos, (5*u.deg, 5*u.deg), wcs=wcs.WCS(hdu_bkg[0].header))\n",
    "\n",
    "\n",
    "bkg_cutout_data = bkg_cutout.data\n",
    "mean_bkg = np.nanmedian(bkg_cutout_data)\n",
    "\n",
    "print(f\"BANE detects {mean_bkg} Jy/beam bkg in this region.\")\n",
    "\n"
   ]
  }
 ],
 "metadata": {
  "kernelspec": {
   "display_name": "Python 3",
   "language": "python",
   "name": "python3"
  },
  "language_info": {
   "codemirror_mode": {
    "name": "ipython",
    "version": 3
   },
   "file_extension": ".py",
   "mimetype": "text/x-python",
   "name": "python",
   "nbconvert_exporter": "python",
   "pygments_lexer": "ipython3",
   "version": "3.10.4"
  },
  "orig_nbformat": 4,
  "vscode": {
   "interpreter": {
    "hash": "31f2aee4e71d21fbe5cf8b01ff0e069b9275f58929596ceb00d14d90e3e16cd6"
   }
  }
 },
 "nbformat": 4,
 "nbformat_minor": 2
}
