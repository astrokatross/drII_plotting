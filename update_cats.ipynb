{
 "cells": [
  {
   "cell_type": "code",
   "execution_count": 103,
   "metadata": {},
   "outputs": [],
   "source": [
    "import numpy as np\n",
    "from astropy.io import fits \n",
    "import matplotlib.pyplot as plt\n",
    "from astropy.table import Table, Column\n",
    "from matplotlib import rc\n",
    "plt.rcParams.update({\n",
    "    \"text.usetex\": True,\n",
    "    \"font.family\": \"serif\",\n",
    "    \"font.size\": 8,\n",
    "    \"axes.titlesize\": 8\n",
    "})\n",
    "cm = 1/2.54"
   ]
  },
  {
   "cell_type": "code",
   "execution_count": 104,
   "metadata": {},
   "outputs": [
    {
     "data": {
      "text/plain": [
       "['island',\n",
       " 'source',\n",
       " 'background',\n",
       " 'local_rms',\n",
       " 'ra_str',\n",
       " 'dec_str',\n",
       " 'ra',\n",
       " 'err_ra',\n",
       " 'dec',\n",
       " 'err_dec',\n",
       " 'peak_flux',\n",
       " 'err_peak_flux',\n",
       " 'int_flux',\n",
       " 'err_int_flux',\n",
       " 'a',\n",
       " 'err_a',\n",
       " 'b',\n",
       " 'err_b',\n",
       " 'pa',\n",
       " 'err_pa',\n",
       " 'flags',\n",
       " 'residual_mean',\n",
       " 'residual_std',\n",
       " 'uuid',\n",
       " 'psf_a',\n",
       " 'psf_b',\n",
       " 'psf_pa']"
      ]
     },
     "execution_count": 104,
     "metadata": {},
     "output_type": "execute_result"
    }
   ],
   "source": [
    "cat = Table.read(\"aegean_testing/white_testingarea_default_comp.fits\")\n",
    "cat.colnames"
   ]
  },
  {
   "cell_type": "code",
   "execution_count": 109,
   "metadata": {},
   "outputs": [
    {
     "name": "stdout",
     "output_type": "stream",
     "text": [
      "0.02989882\n"
     ]
    }
   ],
   "source": [
    "good_inds = np.where(cat['err_a']!=-1)\n",
    "\n",
    "mean_erra = np.mean(cat['err_a'][good_inds])\n",
    "mean_a = np.mean(cat['a'][good_inds])\n",
    "\n",
    "mean_errb = np.mean(cat['err_b'][good_inds])\n",
    "mean_b = np.mean(cat['b'][good_inds])\n",
    "\n",
    "frac_pa_err = np.std((cat['err_pa'][good_inds]/cat['pa'][good_inds]))\n",
    "frac_a_err = np.std((cat['err_a'][good_inds]/cat['a'][good_inds]))\n",
    "frac_b_err = np.std((cat['err_b'][good_inds]/cat['b'][good_inds]))\n",
    "# mean_erra = np.mean(cat['err_a'][good_inds])\n",
    "# mean_a = np.mean(cat['a'][good_inds])\n",
    "# std_b = np.mean(cat['err_b'][good_inds])\n",
    "# std_pa = np.mean(cat['err_pa'][good_inds])\n",
    "print(frac_a_err)\n"
   ]
  },
  {
   "cell_type": "code",
   "execution_count": 97,
   "metadata": {},
   "outputs": [],
   "source": [
    "cat[\"err_ra\"][np.where(cat[\"err_ra\"]==-1)]=0.771\n",
    "cat[\"err_dec\"][np.where(cat[\"err_dec\"]==-1)]=0.806\n",
    "# cat[\"err_a\"][np.where(cat[\"err_a\"]==-1)]=std_a\n",
    "# cat[\"err_b\"][np.where(cat[\"err_b\"]==-1)]=std_b\n",
    "# cat[\"err_pa\"][np.where(cat[\"err_pa\"]==-1)]=std_pa\n",
    "bad_inds = np.where(cat['err_a'] == -1)\n",
    "bad_peak_inds = np.where(cat['err_peak_flux']==-1)\n",
    "bad_int_inds = np.where(cat[\"err_int_flux\"]==-1)\n",
    "# bad_flags = np.where(cat[\"flags\"]!= 0)"
   ]
  },
  {
   "cell_type": "code",
   "execution_count": 98,
   "metadata": {},
   "outputs": [],
   "source": [
    "for i in bad_inds:\n",
    "    cat['err_a'][i] = frac_a_err*cat['a'][i]\n",
    "    cat['err_b'][i] = frac_b_err*cat['b'][i]\n",
    "    cat['err_pa'][i] = frac_pa_err*cat['pa'][i]\n",
    "\n",
    "for i in bad_peak_inds:\n",
    "    cat[\"err_peak_flux\"][i] = np.sqrt(cat['local_rms'][i] ** 2 + (cat[\"peak_flux\"][i] * 0.02)**2)\n",
    "\n",
    "for i in bad_int_inds:\n",
    "    cat[\"err_int_flux\"][i] = np.sqrt((cat['err_a'][i]/cat['a'][i])**2+(cat['err_b'][i]/cat['b'][i])**2+(cat['err_peak_flux'][i]/cat['peak_flux'][i])**2)*cat['int_flux'][i]\n",
    "\n"
   ]
  },
  {
   "cell_type": "code",
   "execution_count": 99,
   "metadata": {},
   "outputs": [
    {
     "name": "stdout",
     "output_type": "stream",
     "text": [
      "(array([1221, 1255, 3917]),)\n"
     ]
    }
   ],
   "source": [
    "vbad_inds = np.where(np.isnan(cat['err_ra']))\n",
    "print(vbad_inds)\n",
    "\n",
    "for i in vbad_inds:\n",
    "    cat[\"err_peak_flux\"][i] = np.sqrt(cat['local_rms'][i] ** 2 + (cat[\"peak_flux\"][i] * 0.02)**2)\n",
    "    cat[\"err_int_flux\"][i] = np.sqrt((cat['err_a'][i]/cat['a'][i])**2+(cat['err_b'][i]/cat['b'][i])**2+(cat['err_peak_flux'][i]/cat['peak_flux'][i])**2)*cat['int_flux'][i]\n",
    "    cat[\"err_ra\"][i]=0.771\n",
    "    cat[\"err_dec\"][i]=0.806"
   ]
  },
  {
   "cell_type": "code",
   "execution_count": 102,
   "metadata": {},
   "outputs": [],
   "source": [
    "cat[\"flags\"][np.where(cat['flags']!=0)] = 0\n",
    "cat.write('aegean_testing/white_nice_noflags.fits', format='fits', overwrite=True)  "
   ]
  }
 ],
 "metadata": {
  "kernelspec": {
   "display_name": "general",
   "language": "python",
   "name": "python3"
  },
  "language_info": {
   "codemirror_mode": {
    "name": "ipython",
    "version": 3
   },
   "file_extension": ".py",
   "mimetype": "text/x-python",
   "name": "python",
   "nbconvert_exporter": "python",
   "pygments_lexer": "ipython3",
   "version": "3.10.4"
  },
  "orig_nbformat": 4
 },
 "nbformat": 4,
 "nbformat_minor": 2
}
